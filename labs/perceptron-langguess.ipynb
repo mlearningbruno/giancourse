{
 "cells": [
  {
   "cell_type": "code",
   "execution_count": 11,
   "metadata": {
    "collapsed": false,
    "scrolled": true
   },
   "outputs": [
    {
     "name": "stdout",
     "output_type": "stream",
     "text": [
      "Error:0.04 Prediction:-0.2\n",
      "Error:0.0256 Prediction:-0.16\n",
      "Error:0.016384 Prediction:-0.128\n",
      "Error:0.01048576 Prediction:-0.1024\n",
      "Error:0.0067108864 Prediction:-0.08192\n",
      "Error:0.004294967296 Prediction:-0.065536\n",
      "Error:0.00274877906944 Prediction:-0.0524288\n",
      "Error:0.00175921860444 Prediction:-0.04194304\n",
      "Error:0.00112589990684 Prediction:-0.033554432\n",
      "Error:0.000720575940379 Prediction:-0.0268435456\n",
      "Error:0.000461168601843 Prediction:-0.02147483648\n",
      "Error:0.000295147905179 Prediction:-0.017179869184\n",
      "Error:0.000188894659315 Prediction:-0.0137438953472\n",
      "Error:0.000120892581961 Prediction:-0.0109951162778\n",
      "Error:7.73712524553e-05 Prediction:-0.00879609302221\n",
      "Error:4.95176015714e-05 Prediction:-0.00703687441777\n",
      "Error:3.16912650057e-05 Prediction:-0.00562949953421\n",
      "Error:2.02824096037e-05 Prediction:-0.00450359962737\n",
      "Error:1.29807421463e-05 Prediction:-0.0036028797019\n",
      "Error:8.30767497366e-06 Prediction:-0.00288230376152\n"
     ]
    }
   ],
   "source": [
    ""
   ]
  },
  {
   "cell_type": "code",
   "execution_count": 24,
   "metadata": {
    "collapsed": false
   },
   "outputs": [
    {
     "name": "stdout",
     "output_type": "stream",
     "text": [
      "Test:165 +We are here.\n",
      " error=0.525358424441 Prediction:False wasTrue\n",
      "Test:161 +It must be perfect.\n",
      " error=0.525358424441 Prediction:False wasTrue\n",
      "Test:159 +Are you sick?\n",
      " error=0.525358424441 Prediction:False wasTrue\n",
      "Test:156 =Está confundido.  \n",
      " error=0.525358424441 Prediction:True wasFalse\n"
     ]
    }
   ],
   "source": [
   "# Simple perceptron: guess if a string is in English or not.\n",
   "# learns its weights from hundred examples, test it on 10s\n",
   "# Created by Bruno Pouliquen & Marcin Junczys-Dowmunt\n",
   "#\n",
    "import numpy as np\n",
    "from string import ascii_lowercase\n",
    "\n",
    "alpha = 0.01\n",
    "training = []\n",
    "category = []\n",
    "lines=[]\n",
    "\n",
    "with open('/home/smt/Icon2016/labs/test.txt', 'r') as f:\n",
    "    for line in f:\n",
    "        lines.append(line)\n",
    "        training.append([line.lower().count(ch) \n",
    "                         for ch in ascii_lowercase])\n",
    "        category.append(\"+\" in line)\n",
    "    \n",
    "weights = np.random.rand(26)\n",
    "ntraining = np.array(training)\n",
    "ncategory = np.array(category)\n",
    "\n",
    "for example in range(140):\n",
    "    input = ntraining[example] \n",
    "    \n",
    "    goal_prediction = ncategory[example] \n",
    "    prediction = max(min(input.dot(weights), 1), 0)\n",
    "    \n",
    "    error = (goal_prediction - prediction) ** 2\n",
    "    delta = prediction - goal_prediction\n",
    "    weights = weights - (alpha * (input * delta))\n",
    "    \n",
    "#    print(\"Ex: %d Error= %f Goal: %d Prediction: %d \" \n",
    "#          % (example, error, goal_prediction, prediction))\n",
    "\n",
    "n = len(ntraining) - 1\n",
    "for test in range(n, n - 10, -1):\n",
    "    input = ntraining[test]\n",
    "    goal_prediction = ncategory[test]\n",
    "    prediction = input.dot(weights) > 0.5\n",
    "    \n",
    "    if (goal_prediction != prediction):\n",
    "        print (\"Test:\" + str(test) + \" \"+lines[test]+\" error=\" + str(error) + \" Prediction:\" + str(prediction)+\" was\"+str(goal_prediction))"
   ]
  },
  {
   "cell_type": "code",
   "execution_count": 13,
   "metadata": {
    "collapsed": false
   },
   "outputs": [
    {
     "name": "stdout",
     "output_type": "stream",
     "text": [
      "[ 0.74993842  0.0339036   0.18937233  0.20210257]\n"
     ]
    }
   ],
   "source": [
    "import numpy as np\n",
    "print(np.random.rand(4))\n"
   ]
  },
  {
   "cell_type": "code",
   "execution_count": 120,
   "metadata": {
    "collapsed": false
   },
   "outputs": [
    {
     "name": "stdout",
     "output_type": "stream",
     "text": [
      "Error:0.04 Prediction:-0.2\n",
      "Error:0.0256 Prediction:-0.16\n",
      "Error:0.016384 Prediction:-0.128\n",
      "Error:0.01048576 Prediction:-0.1024\n",
      "Error:0.0067108864 Prediction:-0.08192\n",
      "Error:0.004294967296 Prediction:-0.065536\n",
      "Error:0.00274877906944 Prediction:-0.0524288\n",
      "Error:0.00175921860444 Prediction:-0.04194304\n",
      "Error:0.00112589990684 Prediction:-0.033554432\n",
      "Error:0.000720575940379 Prediction:-0.0268435456\n",
      "Error:0.000461168601843 Prediction:-0.02147483648\n",
      "Error:0.000295147905179 Prediction:-0.017179869184\n",
      "Error:0.000188894659315 Prediction:-0.0137438953472\n",
      "Error:0.000120892581961 Prediction:-0.0109951162778\n",
      "Error:7.73712524553e-05 Prediction:-0.00879609302221\n",
      "Error:4.95176015714e-05 Prediction:-0.00703687441777\n",
      "Error:3.16912650057e-05 Prediction:-0.00562949953421\n",
      "Error:2.02824096037e-05 Prediction:-0.00450359962737\n",
      "Error:1.29807421463e-05 Prediction:-0.0036028797019\n",
      "Error:8.30767497366e-06 Prediction:-0.00288230376152\n"
     ]
    }
   ],
   "source": [
    ""
   ]
  },
  {
   "cell_type": "code",
   "execution_count": null,
   "metadata": {
    "collapsed": true
   },
   "outputs": [],
   "source": []
  }
 ],
 "metadata": {
  "kernelspec": {
   "display_name": "Python 3",
   "language": "python",
   "name": "python3"
  },
  "language_info": {
   "codemirror_mode": {
    "name": "ipython",
    "version": 3
   },
   "file_extension": ".py",
   "mimetype": "text/x-python",
   "name": "python",
   "nbconvert_exporter": "python",
   "pygments_lexer": "ipython3",
   "version": "3.5.2"
  }
 },
 "nbformat": 4,
 "nbformat_minor": 1
}
